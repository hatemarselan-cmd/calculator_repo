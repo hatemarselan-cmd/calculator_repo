{
 "cells": [
  {
   "cell_type": "code",
   "execution_count": null,
   "id": "51ae81e7",
   "metadata": {},
   "outputs": [],
   "source": [
    "import pandas as pa"
   ]
  },
  {
   "cell_type": "code",
   "execution_count": null,
   "id": "5e44dda9",
   "metadata": {},
   "outputs": [],
   "source": [
    "def sum(x,y):\n",
    "    return x+y"
   ]
  }
 ],
 "metadata": {
  "language_info": {
   "name": "python"
  }
 },
 "nbformat": 4,
 "nbformat_minor": 5
}
