{
 "cells": [
  {
   "cell_type": "code",
   "execution_count": null,
   "id": "51ae81e7",
   "metadata": {},
   "outputs": [],
   "source": [
    "import pandas as pa"
   ]
  }
 ],
 "metadata": {
  "language_info": {
   "name": "python"
  }
 },
 "nbformat": 4,
 "nbformat_minor": 5
}
